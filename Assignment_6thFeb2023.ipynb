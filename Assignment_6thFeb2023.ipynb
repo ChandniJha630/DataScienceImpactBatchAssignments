{
 "cells": [
  {
   "cell_type": "code",
   "execution_count": 39,
   "id": "233f80f4",
   "metadata": {},
   "outputs": [
    {
     "name": "stdout",
     "output_type": "stream",
     "text": [
      "[1, 2, 3, 4, 44, 55, 66, 34, 56, 78, 89, 34, 1, 2, 3, 1, 4, None, 34, 55, 67, 78, 89, 45, 22, 61, 34, None, 56]\n",
      "4134711838987085478833841242112000\n"
     ]
    }
   ],
   "source": [
    "'''\n",
    "Assignment\n",
    "Q1. Create a function which will take a list as an argument and return the product of all the numbers\n",
    "after creating a flat list.\n",
    "Use the below-given list as an argument for your function.\n",
    "list1 = [1,2,3,4, [44,55,66, True], False, (34,56,78,89,34), {1,2,3,3,2,1}, {1:34, \"key2\": [55, 67, 78, 89], 4: (45,\n",
    "22, 61, 34)}, [56, 'data science'], 'Machine Learning']\n",
    "Note: you must extract numeric keys and values of the dictionary also.\n",
    "'''\n",
    "list1 = [1,2,3,4, [44,55,66, True], False, (34,56,78,89,34), {1,2,3,3,2,1}, {1:34, \"key2\": [55, 67, 78, 89], 4: (45,\n",
    "22, 61, 34)}, [56, 'data science'], 'Machine Learning']\n",
    "list2=[]\n",
    "def find_product(list1):\n",
    "  \n",
    "    for each in list1:\n",
    "        if type(each)==int:\n",
    "            list2.append(each)\n",
    "        elif type(each)==list or type(each)==tuple or type(each)==set:\n",
    "             for x in each:\n",
    "                    if type(x)==int:\n",
    "                        list2.append(x)\n",
    "        elif type(each)==dict :\n",
    "            l2=each.keys()\n",
    "            l3=each.values()\n",
    "            list2.append(find_product(l2))\n",
    "            list2.append(find_product(l3))  \n",
    "        else:\n",
    "            continue\n",
    "\n",
    "    \n",
    "find_product(list1)\n",
    "product=1\n",
    "\n",
    "for each in list2:\n",
    "    if each!=None:\n",
    "      product=product*each;\n",
    "print(list2)\n",
    "print(product)"
   ]
  },
  {
   "cell_type": "code",
   "execution_count": 47,
   "id": "06698c5f",
   "metadata": {},
   "outputs": [
    {
     "name": "stdout",
     "output_type": "stream",
     "text": [
      "Enter Your Message for your friend: I want to become a Data Scientist.\n",
      "i$wznt$to$yexome$z$dztz$sxientist.\n"
     ]
    }
   ],
   "source": [
    "'''\n",
    "Q2. Write a python program for encrypting a message sent to you by your friend. The logic of encryption\n",
    "should be such that, for a the output should be z. For b, the output should be y. For c, the output should\n",
    "be x respectively. Also, the whitespace should be replaced with a dollar sign. Keep the punctuation\n",
    "marks unchanged.\n",
    "Input Sentence: I want to become a Data Scientist.\n",
    "Encrypt the above input sentence using the program you just created.\n",
    "Note: Convert the given input sentence into lowercase before encrypting. The final output should be\n",
    "lowercase.\n",
    "'''\n",
    "message=input(\"Enter Your Message for your friend: \")\n",
    "message=message.lower();\n",
    "\n",
    "message='$'.join(message.split(' '))\n",
    "message='z'.join(message.split('a'))\n",
    "message='y'.join(message.split('b'))\n",
    "message='x'.join(message.split('c'))\n",
    "\n",
    "\n",
    "print(message)"
   ]
  },
  {
   "cell_type": "code",
   "execution_count": null,
   "id": "749600d9",
   "metadata": {},
   "outputs": [],
   "source": []
  }
 ],
 "metadata": {
  "kernelspec": {
   "display_name": "Python 3 (ipykernel)",
   "language": "python",
   "name": "python3"
  },
  "language_info": {
   "codemirror_mode": {
    "name": "ipython",
    "version": 3
   },
   "file_extension": ".py",
   "mimetype": "text/x-python",
   "name": "python",
   "nbconvert_exporter": "python",
   "pygments_lexer": "ipython3",
   "version": "3.10.7"
  }
 },
 "nbformat": 4,
 "nbformat_minor": 5
}
